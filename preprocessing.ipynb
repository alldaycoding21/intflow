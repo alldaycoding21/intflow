{
 "cells": [
  {
   "cell_type": "code",
   "execution_count": 1,
   "metadata": {},
   "outputs": [],
   "source": [
    "import json\n",
    "import os"
   ]
  },
  {
   "cell_type": "code",
   "execution_count": null,
   "metadata": {},
   "outputs": [],
   "source": [
    "# json 파일 경로 리스트 만들기\n",
    "json_dir_file_list = os.listdir('./dataset/json')\n",
    "path_list =list()\n",
    "for n in json_dir_file_list:\n",
    "    path1 = 'dataset/json/'\n",
    "    path2 = n\n",
    "    path_list.append(path1+path2)\n",
    "    print(path_list)"
   ]
  },
  {
   "cell_type": "code",
   "execution_count": 3,
   "metadata": {},
   "outputs": [
    {
     "data": {
      "text/plain": [
       "'dataset/json/cowfarmA_ch10_2022072112_229_04781.json'"
      ]
     },
     "execution_count": 3,
     "metadata": {},
     "output_type": "execute_result"
    }
   ],
   "source": [
    "path_list[1]"
   ]
  },
  {
   "cell_type": "code",
   "execution_count": 4,
   "metadata": {},
   "outputs": [],
   "source": [
    "with open (path_list[1], 'r', encoding='utf-8') as f:\n",
    "    j = json.load(f)"
   ]
  },
  {
   "cell_type": "code",
   "execution_count": 32,
   "metadata": {},
   "outputs": [],
   "source": [
    "def convert_yolo_format(img_width,img_height,bbox_x,bbox_y,bbox_w,bbox_h):\n",
    "\n",
    "    intflow_x = float(bbox_x)\n",
    "    intflow_y = float(bbox_y)\n",
    "    intflow_w = float(bbox_w)/100*float(img_width)\n",
    "    intflow_h = float(bbox_h)/100*float(img_height)\n",
    "\n",
    "    yolo_x = round(((intflow_x+(intflow_w/2))/float(img_width)), 15)\n",
    "    yolo_y = round(((intflow_y+(intflow_h/2))/float(img_height)), 15)\n",
    "    yolo_w = round((intflow_w/float(img_width)), 15)\n",
    "    yolo_h = round((intflow_h/float(img_height)), 15)\n",
    "\n",
    "    return(yolo_x,yolo_y,yolo_w,yolo_h)\n"
   ]
  },
  {
   "cell_type": "code",
   "execution_count": 46,
   "metadata": {},
   "outputs": [
    {
     "ename": "UnicodeDecodeError",
     "evalue": "'utf-8' codec can't decode byte 0xff in position 0: invalid start byte",
     "output_type": "error",
     "traceback": [
      "\u001b[1;31m---------------------------------------------------------------------------\u001b[0m",
      "\u001b[1;31mUnicodeDecodeError\u001b[0m                        Traceback (most recent call last)",
      "\u001b[1;32mc:\\Users\\ksj\\Documents\\intflow\\preprocessing.ipynb Cell 6\u001b[0m in \u001b[0;36m<cell line: 1>\u001b[1;34m()\u001b[0m\n\u001b[0;32m      <a href='vscode-notebook-cell:/c%3A/Users/ksj/Documents/intflow/preprocessing.ipynb#W5sZmlsZQ%3D%3D?line=1'>2</a>\u001b[0m json_list\u001b[39m=\u001b[39m\u001b[39mlist\u001b[39m()\n\u001b[0;32m      <a href='vscode-notebook-cell:/c%3A/Users/ksj/Documents/intflow/preprocessing.ipynb#W5sZmlsZQ%3D%3D?line=2'>3</a>\u001b[0m \u001b[39mwith\u001b[39;00m \u001b[39mopen\u001b[39m (j, \u001b[39m'\u001b[39m\u001b[39mr\u001b[39m\u001b[39m'\u001b[39m, encoding\u001b[39m=\u001b[39m\u001b[39m'\u001b[39m\u001b[39mutf-8\u001b[39m\u001b[39m'\u001b[39m) \u001b[39mas\u001b[39;00m f:\n\u001b[1;32m----> <a href='vscode-notebook-cell:/c%3A/Users/ksj/Documents/intflow/preprocessing.ipynb#W5sZmlsZQ%3D%3D?line=3'>4</a>\u001b[0m     json_read \u001b[39m=\u001b[39m json\u001b[39m.\u001b[39;49mload(f)\n\u001b[0;32m      <a href='vscode-notebook-cell:/c%3A/Users/ksj/Documents/intflow/preprocessing.ipynb#W5sZmlsZQ%3D%3D?line=4'>5</a>\u001b[0m     \u001b[39mfor\u001b[39;00m i \u001b[39min\u001b[39;00m \u001b[39mrange\u001b[39m(\u001b[39m0\u001b[39m, \u001b[39mlen\u001b[39m(json_read[\u001b[39m\"\u001b[39m\u001b[39mANNOTATION_INFO\u001b[39m\u001b[39m\"\u001b[39m])):\n\u001b[0;32m      <a href='vscode-notebook-cell:/c%3A/Users/ksj/Documents/intflow/preprocessing.ipynb#W5sZmlsZQ%3D%3D?line=5'>6</a>\u001b[0m         covert_temp \u001b[39m=\u001b[39m (convert_yolo_format(\n\u001b[0;32m      <a href='vscode-notebook-cell:/c%3A/Users/ksj/Documents/intflow/preprocessing.ipynb#W5sZmlsZQ%3D%3D?line=6'>7</a>\u001b[0m             json_read[\u001b[39m\"\u001b[39m\u001b[39mIMAGE\u001b[39m\u001b[39m\"\u001b[39m][\u001b[39m\"\u001b[39m\u001b[39mWIDTH\u001b[39m\u001b[39m\"\u001b[39m],\n\u001b[0;32m      <a href='vscode-notebook-cell:/c%3A/Users/ksj/Documents/intflow/preprocessing.ipynb#W5sZmlsZQ%3D%3D?line=7'>8</a>\u001b[0m             json_read[\u001b[39m\"\u001b[39m\u001b[39mIMAGE\u001b[39m\u001b[39m\"\u001b[39m][\u001b[39m\"\u001b[39m\u001b[39mHEIGHT\u001b[39m\u001b[39m\"\u001b[39m],\n\u001b[1;32m   (...)\u001b[0m\n\u001b[0;32m     <a href='vscode-notebook-cell:/c%3A/Users/ksj/Documents/intflow/preprocessing.ipynb#W5sZmlsZQ%3D%3D?line=11'>12</a>\u001b[0m             json_read[\u001b[39m\"\u001b[39m\u001b[39mANNOTATION_INFO\u001b[39m\u001b[39m\"\u001b[39m][i][\u001b[39m\"\u001b[39m\u001b[39mBOUNDING_BOX_HEIGHT\u001b[39m\u001b[39m\"\u001b[39m]\n\u001b[0;32m     <a href='vscode-notebook-cell:/c%3A/Users/ksj/Documents/intflow/preprocessing.ipynb#W5sZmlsZQ%3D%3D?line=12'>13</a>\u001b[0m             ))\n",
      "File \u001b[1;32mc:\\Users\\ksj\\anaconda3\\envs\\test\\lib\\json\\__init__.py:293\u001b[0m, in \u001b[0;36mload\u001b[1;34m(fp, cls, object_hook, parse_float, parse_int, parse_constant, object_pairs_hook, **kw)\u001b[0m\n\u001b[0;32m    274\u001b[0m \u001b[39mdef\u001b[39;00m \u001b[39mload\u001b[39m(fp, \u001b[39m*\u001b[39m, \u001b[39mcls\u001b[39m\u001b[39m=\u001b[39m\u001b[39mNone\u001b[39;00m, object_hook\u001b[39m=\u001b[39m\u001b[39mNone\u001b[39;00m, parse_float\u001b[39m=\u001b[39m\u001b[39mNone\u001b[39;00m,\n\u001b[0;32m    275\u001b[0m         parse_int\u001b[39m=\u001b[39m\u001b[39mNone\u001b[39;00m, parse_constant\u001b[39m=\u001b[39m\u001b[39mNone\u001b[39;00m, object_pairs_hook\u001b[39m=\u001b[39m\u001b[39mNone\u001b[39;00m, \u001b[39m*\u001b[39m\u001b[39m*\u001b[39mkw):\n\u001b[0;32m    276\u001b[0m     \u001b[39m\"\"\"Deserialize ``fp`` (a ``.read()``-supporting file-like object containing\u001b[39;00m\n\u001b[0;32m    277\u001b[0m \u001b[39m    a JSON document) to a Python object.\u001b[39;00m\n\u001b[0;32m    278\u001b[0m \n\u001b[1;32m   (...)\u001b[0m\n\u001b[0;32m    291\u001b[0m \u001b[39m    kwarg; otherwise ``JSONDecoder`` is used.\u001b[39;00m\n\u001b[0;32m    292\u001b[0m \u001b[39m    \"\"\"\u001b[39;00m\n\u001b[1;32m--> 293\u001b[0m     \u001b[39mreturn\u001b[39;00m loads(fp\u001b[39m.\u001b[39;49mread(),\n\u001b[0;32m    294\u001b[0m         \u001b[39mcls\u001b[39m\u001b[39m=\u001b[39m\u001b[39mcls\u001b[39m, object_hook\u001b[39m=\u001b[39mobject_hook,\n\u001b[0;32m    295\u001b[0m         parse_float\u001b[39m=\u001b[39mparse_float, parse_int\u001b[39m=\u001b[39mparse_int,\n\u001b[0;32m    296\u001b[0m         parse_constant\u001b[39m=\u001b[39mparse_constant, object_pairs_hook\u001b[39m=\u001b[39mobject_pairs_hook, \u001b[39m*\u001b[39m\u001b[39m*\u001b[39mkw)\n",
      "File \u001b[1;32mc:\\Users\\ksj\\anaconda3\\envs\\test\\lib\\codecs.py:322\u001b[0m, in \u001b[0;36mBufferedIncrementalDecoder.decode\u001b[1;34m(self, input, final)\u001b[0m\n\u001b[0;32m    319\u001b[0m \u001b[39mdef\u001b[39;00m \u001b[39mdecode\u001b[39m(\u001b[39mself\u001b[39m, \u001b[39minput\u001b[39m, final\u001b[39m=\u001b[39m\u001b[39mFalse\u001b[39;00m):\n\u001b[0;32m    320\u001b[0m     \u001b[39m# decode input (taking the buffer into account)\u001b[39;00m\n\u001b[0;32m    321\u001b[0m     data \u001b[39m=\u001b[39m \u001b[39mself\u001b[39m\u001b[39m.\u001b[39mbuffer \u001b[39m+\u001b[39m \u001b[39minput\u001b[39m\n\u001b[1;32m--> 322\u001b[0m     (result, consumed) \u001b[39m=\u001b[39m \u001b[39mself\u001b[39;49m\u001b[39m.\u001b[39;49m_buffer_decode(data, \u001b[39mself\u001b[39;49m\u001b[39m.\u001b[39;49merrors, final)\n\u001b[0;32m    323\u001b[0m     \u001b[39m# keep undecoded input until the next call\u001b[39;00m\n\u001b[0;32m    324\u001b[0m     \u001b[39mself\u001b[39m\u001b[39m.\u001b[39mbuffer \u001b[39m=\u001b[39m data[consumed:]\n",
      "\u001b[1;31mUnicodeDecodeError\u001b[0m: 'utf-8' codec can't decode byte 0xff in position 0: invalid start byte"
     ]
    }
   ],
   "source": [
    "for j in path_list:\n",
    "    json_list=list()\n",
    "    with open (j, 'r', encoding='utf-8') as f:\n",
    "        json_read = json.load(f)\n",
    "        for i in range(0, len(json_read[\"ANNOTATION_INFO\"])):\n",
    "            covert_temp = (convert_yolo_format(\n",
    "                json_read[\"IMAGE\"][\"WIDTH\"],\n",
    "                json_read[\"IMAGE\"][\"HEIGHT\"],\n",
    "                json_read[\"ANNOTATION_INFO\"][i][\"BOUNDING_BOX_X_COORDINATE\"],\n",
    "                json_read[\"ANNOTATION_INFO\"][i][\"BOUNDING_BOX_Y_COORDINATE\"],\n",
    "                json_read[\"ANNOTATION_INFO\"][i][\"BOUNDING_BOX_WIDTH\"],\n",
    "                json_read[\"ANNOTATION_INFO\"][i][\"BOUNDING_BOX_HEIGHT\"]\n",
    "                ))\n",
    "            covert_temp2 = \"0\"+\" \"+str(covert_temp[0])+\" \"+str(covert_temp[1])+\" \"+str(covert_temp[2])+\" \"+str(covert_temp[3])\n",
    "            for nn in json_dir_file_list:\n",
    "                name = nn.replace(\"json\", \"txt\")\n",
    "                with open (name, 'w', encoding='utf-8') as ff:\n",
    "                    ff.writelines(covert_temp2 + \"\\n\")"
   ]
  },
  {
   "cell_type": "code",
   "execution_count": 96,
   "metadata": {},
   "outputs": [],
   "source": [
    "with open ('dataset/json/cowfarmC_ch8_2022080223_190_06457.json', 'r', encoding='utf-8') as f:\n",
    "    jj = json.load(f)"
   ]
  },
  {
   "cell_type": "code",
   "execution_count": 90,
   "metadata": {},
   "outputs": [],
   "source": [
    "covert_temp = (convert_yolo_format(\n",
    "    jj[\"IMAGE\"][\"WIDTH\"],\n",
    "    jj[\"IMAGE\"][\"HEIGHT\"],\n",
    "    jj[\"ANNOTATION_INFO\"][7][\"BOUNDING_BOX_X_COORDINATE\"],\n",
    "    jj[\"ANNOTATION_INFO\"][7][\"BOUNDING_BOX_Y_COORDINATE\"],\n",
    "    jj[\"ANNOTATION_INFO\"][7][\"BOUNDING_BOX_WIDTH\"],\n",
    "    jj[\"ANNOTATION_INFO\"][7][\"BOUNDING_BOX_HEIGHT\"]\n",
    "    ))"
   ]
  },
  {
   "cell_type": "code",
   "execution_count": 91,
   "metadata": {},
   "outputs": [],
   "source": [
    "covert_temp = \"0\"+\" \"+str(covert_temp[0])+\" \"+str(covert_temp[1])+\" \"+str(covert_temp[2])+\" \"+str(covert_temp[3])"
   ]
  },
  {
   "cell_type": "code",
   "execution_count": 92,
   "metadata": {},
   "outputs": [
    {
     "name": "stdout",
     "output_type": "stream",
     "text": [
      "0 0.627398868940311 0.383869233528411 0.137089404547288 0.162182911501267\n"
     ]
    }
   ],
   "source": [
    "print(covert_temp)"
   ]
  },
  {
   "cell_type": "code",
   "execution_count": null,
   "metadata": {},
   "outputs": [],
   "source": []
  }
 ],
 "metadata": {
  "kernelspec": {
   "display_name": "Python 3.8.13 ('test')",
   "language": "python",
   "name": "python3"
  },
  "language_info": {
   "codemirror_mode": {
    "name": "ipython",
    "version": 3
   },
   "file_extension": ".py",
   "mimetype": "text/x-python",
   "name": "python",
   "nbconvert_exporter": "python",
   "pygments_lexer": "ipython3",
   "version": "3.8.13"
  },
  "orig_nbformat": 4,
  "vscode": {
   "interpreter": {
    "hash": "da6e5ddaeca9899a288f7a8fdf56863612817cb2e89b8b5ffafd9100a4bcd800"
   }
  }
 },
 "nbformat": 4,
 "nbformat_minor": 2
}
